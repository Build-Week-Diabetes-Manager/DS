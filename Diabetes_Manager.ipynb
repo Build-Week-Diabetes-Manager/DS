{
  "nbformat": 4,
  "nbformat_minor": 0,
  "metadata": {
    "colab": {
      "name": "Diabetes_Manager.ipynb",
      "version": "0.3.2",
      "provenance": [],
      "collapsed_sections": []
    },
    "kernelspec": {
      "name": "python3",
      "display_name": "Python 3"
    },
    "accelerator": "GPU"
  },
  "cells": [
    {
      "cell_type": "code",
      "metadata": {
        "id": "4ntPLVUJZGG-",
        "colab_type": "code",
        "outputId": "314f5b65-e891-46d0-c51c-1472a87b07ba",
        "colab": {
          "base_uri": "https://localhost:8080/",
          "height": 202
        }
      },
      "source": [
        "!wget https://archive.ics.uci.edu/ml/machine-learning-databases/diabetes/diabetes-data.tar.Z"
      ],
      "execution_count": 73,
      "outputs": [
        {
          "output_type": "stream",
          "text": [
            "--2019-08-27 19:22:57--  https://archive.ics.uci.edu/ml/machine-learning-databases/diabetes/diabetes-data.tar.Z\n",
            "Resolving archive.ics.uci.edu (archive.ics.uci.edu)... 128.195.10.252\n",
            "Connecting to archive.ics.uci.edu (archive.ics.uci.edu)|128.195.10.252|:443... connected.\n",
            "HTTP request sent, awaiting response... 200 OK\n",
            "Length: 187551 (183K) [application/x-httpd-php]\n",
            "Saving to: ‘diabetes-data.tar.Z.1’\n",
            "\n",
            "\rdiabetes-data.tar.Z   0%[                    ]       0  --.-KB/s               \rdiabetes-data.tar.Z  21%[===>                ]  39.00K   119KB/s               \rdiabetes-data.tar.Z 100%[===================>] 183.16K   371KB/s    in 0.5s    \n",
            "\n",
            "2019-08-27 19:22:59 (371 KB/s) - ‘diabetes-data.tar.Z.1’ saved [187551/187551]\n",
            "\n"
          ],
          "name": "stdout"
        }
      ]
    },
    {
      "cell_type": "code",
      "metadata": {
        "id": "SKd8bUYbsXzV",
        "colab_type": "code",
        "colab": {}
      },
      "source": [
        "!tar xzf diabetes-data.tar.Z"
      ],
      "execution_count": 0,
      "outputs": []
    },
    {
      "cell_type": "markdown",
      "metadata": {
        "id": "i-VGTyDByuJm",
        "colab_type": "text"
      },
      "source": [
        "## File Names and format:\n",
        "\n",
        "(1) Date in MM-DD-YYYY format\n",
        "\n",
        "(2) Time in XX:YY format\n",
        "\n",
        "(3) Code\n",
        "\n",
        "(4) Value"
      ]
    },
    {
      "cell_type": "code",
      "metadata": {
        "id": "h1K8irczZOO0",
        "colab_type": "code",
        "colab": {}
      },
      "source": [
        "import numpy as np\n",
        "import pandas as pd\n",
        "from glob import glob\n",
        "from datetime import datetime"
      ],
      "execution_count": 0,
      "outputs": []
    },
    {
      "cell_type": "code",
      "metadata": {
        "id": "jReDwS5wzMdB",
        "colab_type": "code",
        "outputId": "c48b0ad6-c4a3-404c-d44a-bf12b0b6cbda",
        "colab": {
          "base_uri": "https://localhost:8080/",
          "height": 212
        }
      },
      "source": [
        "# merge csv files\n",
        "def merge_files(SOURCE):\n",
        "  files_list = sorted(glob(SOURCE + '*'))\n",
        "  df_list = []\n",
        "  for num, path in enumerate(files_list):\n",
        "    df = pd.read_csv(path, sep='\\t', header=None)\n",
        "    df['patient_id'] = num+1\n",
        "    df_list.append(df)\n",
        "  df = pd.concat(df_list, join='outer', ignore_index=True, axis=0, sort=True)\n",
        "  \n",
        "  return df\n",
        "\n",
        "SOURCE = 'Diabetes-Data/data'\n",
        "df = merge_files(SOURCE)\n",
        "print(df.shape)\n",
        "df.head()"
      ],
      "execution_count": 104,
      "outputs": [
        {
          "output_type": "stream",
          "text": [
            "(29330, 5)\n"
          ],
          "name": "stdout"
        },
        {
          "output_type": "execute_result",
          "data": {
            "text/html": [
              "<div>\n",
              "<style scoped>\n",
              "    .dataframe tbody tr th:only-of-type {\n",
              "        vertical-align: middle;\n",
              "    }\n",
              "\n",
              "    .dataframe tbody tr th {\n",
              "        vertical-align: top;\n",
              "    }\n",
              "\n",
              "    .dataframe thead th {\n",
              "        text-align: right;\n",
              "    }\n",
              "</style>\n",
              "<table border=\"1\" class=\"dataframe\">\n",
              "  <thead>\n",
              "    <tr style=\"text-align: right;\">\n",
              "      <th></th>\n",
              "      <th>0</th>\n",
              "      <th>1</th>\n",
              "      <th>2</th>\n",
              "      <th>3</th>\n",
              "      <th>patient_id</th>\n",
              "    </tr>\n",
              "  </thead>\n",
              "  <tbody>\n",
              "    <tr>\n",
              "      <th>0</th>\n",
              "      <td>04-21-1991</td>\n",
              "      <td>9:09</td>\n",
              "      <td>58</td>\n",
              "      <td>100</td>\n",
              "      <td>1</td>\n",
              "    </tr>\n",
              "    <tr>\n",
              "      <th>1</th>\n",
              "      <td>04-21-1991</td>\n",
              "      <td>9:09</td>\n",
              "      <td>33</td>\n",
              "      <td>9</td>\n",
              "      <td>1</td>\n",
              "    </tr>\n",
              "    <tr>\n",
              "      <th>2</th>\n",
              "      <td>04-21-1991</td>\n",
              "      <td>9:09</td>\n",
              "      <td>34</td>\n",
              "      <td>13</td>\n",
              "      <td>1</td>\n",
              "    </tr>\n",
              "    <tr>\n",
              "      <th>3</th>\n",
              "      <td>04-21-1991</td>\n",
              "      <td>17:08</td>\n",
              "      <td>62</td>\n",
              "      <td>119</td>\n",
              "      <td>1</td>\n",
              "    </tr>\n",
              "    <tr>\n",
              "      <th>4</th>\n",
              "      <td>04-21-1991</td>\n",
              "      <td>17:08</td>\n",
              "      <td>33</td>\n",
              "      <td>7</td>\n",
              "      <td>1</td>\n",
              "    </tr>\n",
              "  </tbody>\n",
              "</table>\n",
              "</div>"
            ],
            "text/plain": [
              "            0      1   2    3  patient_id\n",
              "0  04-21-1991   9:09  58  100           1\n",
              "1  04-21-1991   9:09  33    9           1\n",
              "2  04-21-1991   9:09  34   13           1\n",
              "3  04-21-1991  17:08  62  119           1\n",
              "4  04-21-1991  17:08  33    7           1"
            ]
          },
          "metadata": {
            "tags": []
          },
          "execution_count": 104
        }
      ]
    },
    {
      "cell_type": "code",
      "metadata": {
        "id": "2alJdvGiwpEn",
        "colab_type": "code",
        "outputId": "17c250bb-5b0e-48c8-e2e4-3caa6ea9f23d",
        "colab": {
          "base_uri": "https://localhost:8080/",
          "height": 118
        }
      },
      "source": [
        "df.isnull().sum()"
      ],
      "execution_count": 90,
      "outputs": [
        {
          "output_type": "execute_result",
          "data": {
            "text/plain": [
              "0             33\n",
              "1              0\n",
              "2              0\n",
              "3             33\n",
              "patient_id     0\n",
              "dtype: int64"
            ]
          },
          "metadata": {
            "tags": []
          },
          "execution_count": 90
        }
      ]
    },
    {
      "cell_type": "code",
      "metadata": {
        "id": "o4s0pBo3wr8H",
        "colab_type": "code",
        "outputId": "6a948076-a497-413c-f90b-421d5ad97f33",
        "colab": {
          "base_uri": "https://localhost:8080/",
          "height": 34
        }
      },
      "source": [
        "df = df.dropna()\n",
        "df.shape"
      ],
      "execution_count": 91,
      "outputs": [
        {
          "output_type": "execute_result",
          "data": {
            "text/plain": [
              "(29264, 5)"
            ]
          },
          "metadata": {
            "tags": []
          },
          "execution_count": 91
        }
      ]
    },
    {
      "cell_type": "code",
      "metadata": {
        "id": "5q313b9nd4GL",
        "colab_type": "code",
        "outputId": "fbe51701-e34a-4fee-d850-8cb1f1d81390",
        "colab": {
          "base_uri": "https://localhost:8080/",
          "height": 437
        }
      },
      "source": [
        "# check if date and time can be transformed into datetime\n",
        "print('Incorrect dates:')\n",
        "for d in df[0]:\n",
        "  try:\n",
        "    datetime.strptime(d, '%m-%d-%Y')\n",
        "  except:\n",
        "    print(d)\n",
        "print('\\nIncorrect times:')\n",
        "for t in df[1]:\n",
        "  try:\n",
        "    datetime.strptime(t, '%H:%M')\n",
        "  except:\n",
        "    print(t)\n",
        "print('\\nIncorrect values:')\n",
        "# check if all values are integers\n",
        "for i in df[3]:\n",
        "  try:\n",
        "    float(i)\n",
        "  except:\n",
        "    print(i)"
      ],
      "execution_count": 92,
      "outputs": [
        {
          "output_type": "stream",
          "text": [
            "Incorrect dates:\n",
            "06-31-1991\n",
            "06-31-1991\n",
            "06-31-1991\n",
            "06-31-1991\n",
            "06-31-1991\n",
            "06-31-1991\n",
            "06-31-1991\n",
            "\n",
            "Incorrect times:\n",
            "56:35\n",
            "56:35\n",
            "56:35\n",
            "188:00\n",
            "188:00\n",
            "\n",
            "Incorrect values:\n",
            "0Hi\n",
            "0Hi\n",
            "0Hi\n",
            "0Hi\n",
            "0Hi\n",
            "0Lo\n",
            "0Hi\n",
            "0''\n"
          ],
          "name": "stdout"
        }
      ]
    },
    {
      "cell_type": "code",
      "metadata": {
        "id": "HRJnLX5zA5Kc",
        "colab_type": "code",
        "colab": {
          "base_uri": "https://localhost:8080/",
          "height": 353
        },
        "outputId": "ea844c77-ed3f-49d8-9fef-15f8fe9528fe"
      },
      "source": [
        "codes = \"\"\"\n",
        "33 = Regular insulin dose\n",
        "34 = NPH insulin dose\n",
        "35 = UltraLente insulin dose\n",
        "48 = Unspecified blood glucose measurement\n",
        "57 = Unspecified blood glucose measurement\n",
        "58 = Pre-breakfast blood glucose measurement\n",
        "59 = Post-breakfast blood glucose measurement\n",
        "60 = Pre-lunch blood glucose measurement\n",
        "61 = Post-lunch blood glucose measurement\n",
        "62 = Pre-supper blood glucose measurement\n",
        "63 = Post-supper blood glucose measurement\n",
        "64 = Pre-snack blood glucose measurement\n",
        "65 = Hypoglycemic symptoms\n",
        "66 = Typical meal ingestion\n",
        "67 = More-than-usual meal ingestion\n",
        "68 = Less-than-usual meal ingestion\n",
        "69 = Typical exercise activity\n",
        "70 = More-than-usual exercise activity\n",
        "71 = Less-than-usual exercise activity\n",
        "72 = Unspecified special event\n",
        "\"\"\"\n",
        "code_dict = {}\n",
        "for code in codes.split('\\n')[1:-1]:\n",
        "    key,val = code.split(' = ')\n",
        "    code_dict[int(key)] = val\n",
        "code_dict"
      ],
      "execution_count": 93,
      "outputs": [
        {
          "output_type": "execute_result",
          "data": {
            "text/plain": [
              "{33: 'Regular insulin dose',\n",
              " 34: 'NPH insulin dose',\n",
              " 35: 'UltraLente insulin dose',\n",
              " 48: 'Unspecified blood glucose measurement',\n",
              " 57: 'Unspecified blood glucose measurement',\n",
              " 58: 'Pre-breakfast blood glucose measurement',\n",
              " 59: 'Post-breakfast blood glucose measurement',\n",
              " 60: 'Pre-lunch blood glucose measurement',\n",
              " 61: 'Post-lunch blood glucose measurement',\n",
              " 62: 'Pre-supper blood glucose measurement',\n",
              " 63: 'Post-supper blood glucose measurement',\n",
              " 64: 'Pre-snack blood glucose measurement',\n",
              " 65: 'Hypoglycemic symptoms',\n",
              " 66: 'Typical meal ingestion',\n",
              " 67: 'More-than-usual meal ingestion',\n",
              " 68: 'Less-than-usual meal ingestion',\n",
              " 69: 'Typical exercise activity',\n",
              " 70: 'More-than-usual exercise activity',\n",
              " 71: 'Less-than-usual exercise activity',\n",
              " 72: 'Unspecified special event'}"
            ]
          },
          "metadata": {
            "tags": []
          },
          "execution_count": 93
        }
      ]
    },
    {
      "cell_type": "code",
      "metadata": {
        "id": "HaiBobLmA-W1",
        "colab_type": "code",
        "colab": {
          "base_uri": "https://localhost:8080/",
          "height": 34
        },
        "outputId": "540c56a2-fd56-4084-e11d-33bf585ee0cb"
      },
      "source": [
        "# figure out missing codes\n",
        "non_standard_codes = set(code_dict.keys()).symmetric_difference(set(df[2].unique()))\n",
        "non_standard_codes"
      ],
      "execution_count": 94,
      "outputs": [
        {
          "output_type": "execute_result",
          "data": {
            "text/plain": [
              "{4, 36, 56}"
            ]
          },
          "metadata": {
            "tags": []
          },
          "execution_count": 94
        }
      ]
    },
    {
      "cell_type": "code",
      "metadata": {
        "id": "2d7lly6-khnz",
        "colab_type": "code",
        "colab": {
          "base_uri": "https://localhost:8080/",
          "height": 84
        },
        "outputId": "580bcb79-ae31-4640-b00a-a065dd644678"
      },
      "source": [
        "df[df[2].isin(non_standard_codes)].index"
      ],
      "execution_count": 95,
      "outputs": [
        {
          "output_type": "execute_result",
          "data": {
            "text/plain": [
              "Int64Index([  3,   8,  18,  27,  36,  45,  60, 144, 239, 243,\n",
              "            ...\n",
              "            137, 113, 124, 274, 100,  32,  40,  41,   6,  10],\n",
              "           dtype='int64', length=121)"
            ]
          },
          "metadata": {
            "tags": []
          },
          "execution_count": 95
        }
      ]
    },
    {
      "cell_type": "code",
      "metadata": {
        "id": "otkjwz8JpPZ9",
        "colab_type": "code",
        "colab": {
          "base_uri": "https://localhost:8080/",
          "height": 34
        },
        "outputId": "704e430e-68f8-45bf-9b6e-47753945396a"
      },
      "source": [
        "df[df[3].isin(['0Hi', '0Lo', \"0''\"])].shape"
      ],
      "execution_count": 103,
      "outputs": [
        {
          "output_type": "execute_result",
          "data": {
            "text/plain": [
              "(8, 5)"
            ]
          },
          "metadata": {
            "tags": []
          },
          "execution_count": 103
        }
      ]
    },
    {
      "cell_type": "code",
      "metadata": {
        "id": "EFqSG80RARc8",
        "colab_type": "code",
        "colab": {
          "base_uri": "https://localhost:8080/",
          "height": 34
        },
        "outputId": "757be821-4523-4d1d-86a9-b954ddd1a6ac"
      },
      "source": [
        "# remove non standard codes (121 rows)\n",
        "df = df.drop(df[df[2].isin(non_standard_codes)].index)\n",
        "# remove the values that are not correct\n",
        "df = df.drop(df[df[0] =='06-31-1991'].index) # 7\n",
        "df = df.drop(df[df[1].isin(['56:35', '188:00'])].index) # 5\n",
        "df = df.drop(df[df[3].isin(['0Hi', '0Lo', \"0''\"])].index) # 8\n",
        "# standardize duplicate codes\n",
        "df[2] = df[2].replace(48, 57)\n",
        "df.shape"
      ],
      "execution_count": 105,
      "outputs": [
        {
          "output_type": "execute_result",
          "data": {
            "text/plain": [
              "(29189, 5)"
            ]
          },
          "metadata": {
            "tags": []
          },
          "execution_count": 105
        }
      ]
    },
    {
      "cell_type": "code",
      "metadata": {
        "id": "9Vd-rbcW0Sks",
        "colab_type": "code",
        "outputId": "4e811429-0893-4d8e-dded-7b74a122f531",
        "colab": {
          "base_uri": "https://localhost:8080/",
          "height": 134
        }
      },
      "source": [
        "# create new feature with timestamp\n",
        "df['timestamp'] = df.apply(lambda x: datetime.strptime(f'{x[0]} {x[1]}', '%m-%d-%Y %H:%M'), axis=1)\n",
        "# convert date to datetime\n",
        "df = df.rename(columns={ 0:'date', 1:'time', 2:'code', 3:'value'})\n",
        "df['value'] = df['value'].astype(float)\n",
        "df.dtypes"
      ],
      "execution_count": 51,
      "outputs": [
        {
          "output_type": "execute_result",
          "data": {
            "text/plain": [
              "date                  object\n",
              "time                  object\n",
              "code                   int64\n",
              "value                float64\n",
              "patient_id             int64\n",
              "timestamp     datetime64[ns]\n",
              "dtype: object"
            ]
          },
          "metadata": {
            "tags": []
          },
          "execution_count": 51
        }
      ]
    },
    {
      "cell_type": "code",
      "metadata": {
        "id": "-WsdSLtWHX37",
        "colab_type": "code",
        "outputId": "4370c6c2-8f3b-47e1-b237-9f6dc31c9efe",
        "colab": {
          "base_uri": "https://localhost:8080/",
          "height": 212
        }
      },
      "source": [
        "print(df.shape)\n",
        "df.head()"
      ],
      "execution_count": 79,
      "outputs": [
        {
          "output_type": "stream",
          "text": [
            "(22491, 5)\n"
          ],
          "name": "stdout"
        },
        {
          "output_type": "execute_result",
          "data": {
            "text/html": [
              "<div>\n",
              "<style scoped>\n",
              "    .dataframe tbody tr th:only-of-type {\n",
              "        vertical-align: middle;\n",
              "    }\n",
              "\n",
              "    .dataframe tbody tr th {\n",
              "        vertical-align: top;\n",
              "    }\n",
              "\n",
              "    .dataframe thead th {\n",
              "        text-align: right;\n",
              "    }\n",
              "</style>\n",
              "<table border=\"1\" class=\"dataframe\">\n",
              "  <thead>\n",
              "    <tr style=\"text-align: right;\">\n",
              "      <th></th>\n",
              "      <th>0</th>\n",
              "      <th>1</th>\n",
              "      <th>2</th>\n",
              "      <th>3</th>\n",
              "      <th>patient_id</th>\n",
              "    </tr>\n",
              "  </thead>\n",
              "  <tbody>\n",
              "    <tr>\n",
              "      <th>12</th>\n",
              "      <td>04-23-1991</td>\n",
              "      <td>7:25</td>\n",
              "      <td>58</td>\n",
              "      <td>257</td>\n",
              "      <td>1</td>\n",
              "    </tr>\n",
              "    <tr>\n",
              "      <th>20</th>\n",
              "      <td>04-24-1991</td>\n",
              "      <td>12:00</td>\n",
              "      <td>33</td>\n",
              "      <td>4</td>\n",
              "      <td>1</td>\n",
              "    </tr>\n",
              "    <tr>\n",
              "      <th>22</th>\n",
              "      <td>04-24-1991</td>\n",
              "      <td>22:09</td>\n",
              "      <td>57</td>\n",
              "      <td>340</td>\n",
              "      <td>1</td>\n",
              "    </tr>\n",
              "    <tr>\n",
              "      <th>23</th>\n",
              "      <td>04-24-1991</td>\n",
              "      <td>22:09</td>\n",
              "      <td>33</td>\n",
              "      <td>5</td>\n",
              "      <td>1</td>\n",
              "    </tr>\n",
              "    <tr>\n",
              "      <th>28</th>\n",
              "      <td>04-25-1991</td>\n",
              "      <td>17:24</td>\n",
              "      <td>62</td>\n",
              "      <td>206</td>\n",
              "      <td>1</td>\n",
              "    </tr>\n",
              "  </tbody>\n",
              "</table>\n",
              "</div>"
            ],
            "text/plain": [
              "             0      1   2    3  patient_id\n",
              "12  04-23-1991   7:25  58  257           1\n",
              "20  04-24-1991  12:00  33    4           1\n",
              "22  04-24-1991  22:09  57  340           1\n",
              "23  04-24-1991  22:09  33    5           1\n",
              "28  04-25-1991  17:24  62  206           1"
            ]
          },
          "metadata": {
            "tags": []
          },
          "execution_count": 79
        }
      ]
    },
    {
      "cell_type": "code",
      "metadata": {
        "id": "S72EzMJpOtdO",
        "colab_type": "code",
        "colab": {
          "base_uri": "https://localhost:8080/",
          "height": 34
        },
        "outputId": "06fbe7d6-2c26-4a94-b348-8e9853b00964"
      },
      "source": [
        "# Unspecified special event (code 72) 54 rows\n",
        "# 94\n",
        "df[(df[2]==72)].shape"
      ],
      "execution_count": 106,
      "outputs": [
        {
          "output_type": "execute_result",
          "data": {
            "text/plain": [
              "(94, 5)"
            ]
          },
          "metadata": {
            "tags": []
          },
          "execution_count": 106
        }
      ]
    },
    {
      "cell_type": "code",
      "metadata": {
        "id": "qXBqmp4YNOQW",
        "colab_type": "code",
        "colab": {
          "base_uri": "https://localhost:8080/",
          "height": 34
        },
        "outputId": "db3273a7-cc20-4deb-d15f-a531769b0138"
      },
      "source": [
        "# Hypoglycemic symptoms 229 rows\n",
        "# 331\n",
        "df[(df[2]==65)].shape"
      ],
      "execution_count": 107,
      "outputs": [
        {
          "output_type": "execute_result",
          "data": {
            "text/plain": [
              "(331, 5)"
            ]
          },
          "metadata": {
            "tags": []
          },
          "execution_count": 107
        }
      ]
    },
    {
      "cell_type": "code",
      "metadata": {
        "id": "2_cMi0DVMxbx",
        "colab_type": "code",
        "colab": {
          "base_uri": "https://localhost:8080/",
          "height": 34
        },
        "outputId": "d08e2e2c-1dc4-4e94-a578-b39624a1422c"
      },
      "source": [
        "# meal ingestion 343 rows\n",
        "# 514\n",
        "df[(df[2]==66)|(df[2]==67)|(df[2]==68)].shape"
      ],
      "execution_count": 108,
      "outputs": [
        {
          "output_type": "execute_result",
          "data": {
            "text/plain": [
              "(514, 5)"
            ]
          },
          "metadata": {
            "tags": []
          },
          "execution_count": 108
        }
      ]
    },
    {
      "cell_type": "code",
      "metadata": {
        "id": "DCo4z_3ZAASB",
        "colab_type": "code",
        "colab": {
          "base_uri": "https://localhost:8080/",
          "height": 34
        },
        "outputId": "356daded-9cce-4ac5-be6c-050916ea0abf"
      },
      "source": [
        "# exercise activity 194 rows\n",
        "# 331\n",
        "df[(df[2]==69)|(df[2]==70)|(df[2]==71)].shape"
      ],
      "execution_count": 109,
      "outputs": [
        {
          "output_type": "execute_result",
          "data": {
            "text/plain": [
              "(305, 5)"
            ]
          },
          "metadata": {
            "tags": []
          },
          "execution_count": 109
        }
      ]
    },
    {
      "cell_type": "code",
      "metadata": {
        "id": "_pUdiJ1Jg85z",
        "colab_type": "code",
        "outputId": "de691b29-3d31-464d-a782-f69283199332",
        "colab": {
          "base_uri": "https://localhost:8080/",
          "height": 212
        }
      },
      "source": [
        "df = pd.read_csv('Diabetes-Data/data-21', sep='\\t', header=None)\n",
        "df = df.rename(columns={0:'date', 1:'time',2:'code',3:'value'})\n",
        "df['date'] = pd.to_datetime(df['date'], format='%m-%d-%Y', infer_datetime_format=True)\n",
        "print(df.shape)\n",
        "df.head()"
      ],
      "execution_count": 0,
      "outputs": [
        {
          "output_type": "stream",
          "text": [
            "(517, 4)\n"
          ],
          "name": "stdout"
        },
        {
          "output_type": "execute_result",
          "data": {
            "text/html": [
              "<div>\n",
              "<style scoped>\n",
              "    .dataframe tbody tr th:only-of-type {\n",
              "        vertical-align: middle;\n",
              "    }\n",
              "\n",
              "    .dataframe tbody tr th {\n",
              "        vertical-align: top;\n",
              "    }\n",
              "\n",
              "    .dataframe thead th {\n",
              "        text-align: right;\n",
              "    }\n",
              "</style>\n",
              "<table border=\"1\" class=\"dataframe\">\n",
              "  <thead>\n",
              "    <tr style=\"text-align: right;\">\n",
              "      <th></th>\n",
              "      <th>date</th>\n",
              "      <th>time</th>\n",
              "      <th>code</th>\n",
              "      <th>value</th>\n",
              "    </tr>\n",
              "  </thead>\n",
              "  <tbody>\n",
              "    <tr>\n",
              "      <th>0</th>\n",
              "      <td>1989-09-03</td>\n",
              "      <td>08:00</td>\n",
              "      <td>58</td>\n",
              "      <td>125</td>\n",
              "    </tr>\n",
              "    <tr>\n",
              "      <th>1</th>\n",
              "      <td>1989-09-03</td>\n",
              "      <td>08:00</td>\n",
              "      <td>33</td>\n",
              "      <td>10</td>\n",
              "    </tr>\n",
              "    <tr>\n",
              "      <th>2</th>\n",
              "      <td>1989-09-03</td>\n",
              "      <td>08:00</td>\n",
              "      <td>34</td>\n",
              "      <td>18</td>\n",
              "    </tr>\n",
              "    <tr>\n",
              "      <th>3</th>\n",
              "      <td>1989-09-03</td>\n",
              "      <td>12:00</td>\n",
              "      <td>60</td>\n",
              "      <td>193</td>\n",
              "    </tr>\n",
              "    <tr>\n",
              "      <th>4</th>\n",
              "      <td>1989-09-03</td>\n",
              "      <td>12:00</td>\n",
              "      <td>33</td>\n",
              "      <td>10</td>\n",
              "    </tr>\n",
              "  </tbody>\n",
              "</table>\n",
              "</div>"
            ],
            "text/plain": [
              "        date   time  code  value\n",
              "0 1989-09-03  08:00    58    125\n",
              "1 1989-09-03  08:00    33     10\n",
              "2 1989-09-03  08:00    34     18\n",
              "3 1989-09-03  12:00    60    193\n",
              "4 1989-09-03  12:00    33     10"
            ]
          },
          "metadata": {
            "tags": []
          },
          "execution_count": 104
        }
      ]
    },
    {
      "cell_type": "code",
      "metadata": {
        "id": "kcgnUf6Z5xz9",
        "colab_type": "code",
        "outputId": "cd1a336a-217a-4eb0-9a6e-0fb3d4bbe4e3",
        "colab": {
          "base_uri": "https://localhost:8080/",
          "height": 373
        }
      },
      "source": [
        "df.describe(include='all')"
      ],
      "execution_count": 0,
      "outputs": [
        {
          "output_type": "execute_result",
          "data": {
            "text/html": [
              "<div>\n",
              "<style scoped>\n",
              "    .dataframe tbody tr th:only-of-type {\n",
              "        vertical-align: middle;\n",
              "    }\n",
              "\n",
              "    .dataframe tbody tr th {\n",
              "        vertical-align: top;\n",
              "    }\n",
              "\n",
              "    .dataframe thead th {\n",
              "        text-align: right;\n",
              "    }\n",
              "</style>\n",
              "<table border=\"1\" class=\"dataframe\">\n",
              "  <thead>\n",
              "    <tr style=\"text-align: right;\">\n",
              "      <th></th>\n",
              "      <th>date</th>\n",
              "      <th>time</th>\n",
              "      <th>code</th>\n",
              "      <th>value</th>\n",
              "      <th>patient</th>\n",
              "    </tr>\n",
              "  </thead>\n",
              "  <tbody>\n",
              "    <tr>\n",
              "      <th>count</th>\n",
              "      <td>29264</td>\n",
              "      <td>29264</td>\n",
              "      <td>29264.000000</td>\n",
              "      <td>29264.0</td>\n",
              "      <td>29264.000000</td>\n",
              "    </tr>\n",
              "    <tr>\n",
              "      <th>unique</th>\n",
              "      <td>1141</td>\n",
              "      <td>1295</td>\n",
              "      <td>NaN</td>\n",
              "      <td>741.0</td>\n",
              "      <td>NaN</td>\n",
              "    </tr>\n",
              "    <tr>\n",
              "      <th>top</th>\n",
              "      <td>09-19-1990</td>\n",
              "      <td>08:00</td>\n",
              "      <td>NaN</td>\n",
              "      <td>6.0</td>\n",
              "      <td>NaN</td>\n",
              "    </tr>\n",
              "    <tr>\n",
              "      <th>freq</th>\n",
              "      <td>126</td>\n",
              "      <td>3101</td>\n",
              "      <td>NaN</td>\n",
              "      <td>1522.0</td>\n",
              "      <td>NaN</td>\n",
              "    </tr>\n",
              "    <tr>\n",
              "      <th>mean</th>\n",
              "      <td>NaN</td>\n",
              "      <td>NaN</td>\n",
              "      <td>46.496104</td>\n",
              "      <td>NaN</td>\n",
              "      <td>33.491457</td>\n",
              "    </tr>\n",
              "    <tr>\n",
              "      <th>std</th>\n",
              "      <td>NaN</td>\n",
              "      <td>NaN</td>\n",
              "      <td>13.370059</td>\n",
              "      <td>NaN</td>\n",
              "      <td>19.254279</td>\n",
              "    </tr>\n",
              "    <tr>\n",
              "      <th>min</th>\n",
              "      <td>NaN</td>\n",
              "      <td>NaN</td>\n",
              "      <td>4.000000</td>\n",
              "      <td>NaN</td>\n",
              "      <td>1.000000</td>\n",
              "    </tr>\n",
              "    <tr>\n",
              "      <th>25%</th>\n",
              "      <td>NaN</td>\n",
              "      <td>NaN</td>\n",
              "      <td>33.000000</td>\n",
              "      <td>NaN</td>\n",
              "      <td>18.000000</td>\n",
              "    </tr>\n",
              "    <tr>\n",
              "      <th>50%</th>\n",
              "      <td>NaN</td>\n",
              "      <td>NaN</td>\n",
              "      <td>48.000000</td>\n",
              "      <td>NaN</td>\n",
              "      <td>33.000000</td>\n",
              "    </tr>\n",
              "    <tr>\n",
              "      <th>75%</th>\n",
              "      <td>NaN</td>\n",
              "      <td>NaN</td>\n",
              "      <td>60.000000</td>\n",
              "      <td>NaN</td>\n",
              "      <td>50.000000</td>\n",
              "    </tr>\n",
              "    <tr>\n",
              "      <th>max</th>\n",
              "      <td>NaN</td>\n",
              "      <td>NaN</td>\n",
              "      <td>72.000000</td>\n",
              "      <td>NaN</td>\n",
              "      <td>70.000000</td>\n",
              "    </tr>\n",
              "  </tbody>\n",
              "</table>\n",
              "</div>"
            ],
            "text/plain": [
              "              date   time          code    value       patient\n",
              "count        29264  29264  29264.000000  29264.0  29264.000000\n",
              "unique        1141   1295           NaN    741.0           NaN\n",
              "top     09-19-1990  08:00           NaN      6.0           NaN\n",
              "freq           126   3101           NaN   1522.0           NaN\n",
              "mean           NaN    NaN     46.496104      NaN     33.491457\n",
              "std            NaN    NaN     13.370059      NaN     19.254279\n",
              "min            NaN    NaN      4.000000      NaN      1.000000\n",
              "25%            NaN    NaN     33.000000      NaN     18.000000\n",
              "50%            NaN    NaN     48.000000      NaN     33.000000\n",
              "75%            NaN    NaN     60.000000      NaN     50.000000\n",
              "max            NaN    NaN     72.000000      NaN     70.000000"
            ]
          },
          "metadata": {
            "tags": []
          },
          "execution_count": 64
        }
      ]
    },
    {
      "cell_type": "code",
      "metadata": {
        "id": "1F4b-Wa5gJF2",
        "colab_type": "code",
        "outputId": "4bfbcc6c-40e0-409f-b102-fb0a38505896",
        "colab": {
          "base_uri": "https://localhost:8080/",
          "height": 212
        }
      },
      "source": [
        "df = pd.read_csv('Diabetes-Data/data-43', sep='\\t', header=None)\n",
        "df = df.rename(columns={0:'date', 1:'time',2:'code',3:'value'})\n",
        "print(df.shape)\n",
        "df.head()"
      ],
      "execution_count": 0,
      "outputs": [
        {
          "output_type": "stream",
          "text": [
            "(300, 4)\n"
          ],
          "name": "stdout"
        },
        {
          "output_type": "execute_result",
          "data": {
            "text/html": [
              "<div>\n",
              "<style scoped>\n",
              "    .dataframe tbody tr th:only-of-type {\n",
              "        vertical-align: middle;\n",
              "    }\n",
              "\n",
              "    .dataframe tbody tr th {\n",
              "        vertical-align: top;\n",
              "    }\n",
              "\n",
              "    .dataframe thead th {\n",
              "        text-align: right;\n",
              "    }\n",
              "</style>\n",
              "<table border=\"1\" class=\"dataframe\">\n",
              "  <thead>\n",
              "    <tr style=\"text-align: right;\">\n",
              "      <th></th>\n",
              "      <th>date</th>\n",
              "      <th>time</th>\n",
              "      <th>code</th>\n",
              "      <th>value</th>\n",
              "    </tr>\n",
              "  </thead>\n",
              "  <tbody>\n",
              "    <tr>\n",
              "      <th>0</th>\n",
              "      <td>07-13-1990</td>\n",
              "      <td>11:36</td>\n",
              "      <td>57</td>\n",
              "      <td>84</td>\n",
              "    </tr>\n",
              "    <tr>\n",
              "      <th>1</th>\n",
              "      <td>07-13-1990</td>\n",
              "      <td>11:39</td>\n",
              "      <td>33</td>\n",
              "      <td>3</td>\n",
              "    </tr>\n",
              "    <tr>\n",
              "      <th>2</th>\n",
              "      <td>07-13-1990</td>\n",
              "      <td>16:43</td>\n",
              "      <td>65</td>\n",
              "      <td>0</td>\n",
              "    </tr>\n",
              "    <tr>\n",
              "      <th>3</th>\n",
              "      <td>07-13-1990</td>\n",
              "      <td>16:44</td>\n",
              "      <td>66</td>\n",
              "      <td>0</td>\n",
              "    </tr>\n",
              "    <tr>\n",
              "      <th>4</th>\n",
              "      <td>07-13-1990</td>\n",
              "      <td>16:44</td>\n",
              "      <td>62</td>\n",
              "      <td>180</td>\n",
              "    </tr>\n",
              "  </tbody>\n",
              "</table>\n",
              "</div>"
            ],
            "text/plain": [
              "         date   time  code  value\n",
              "0  07-13-1990  11:36    57     84\n",
              "1  07-13-1990  11:39    33      3\n",
              "2  07-13-1990  16:43    65      0\n",
              "3  07-13-1990  16:44    66      0\n",
              "4  07-13-1990  16:44    62    180"
            ]
          },
          "metadata": {
            "tags": []
          },
          "execution_count": 78
        }
      ]
    },
    {
      "cell_type": "code",
      "metadata": {
        "id": "WOaW7StzYp-a",
        "colab_type": "code",
        "outputId": "d4b917b6-6398-49dd-9814-030bb03eedfd",
        "colab": {
          "base_uri": "https://localhost:8080/",
          "height": 166
        }
      },
      "source": [
        "df.describe(include='all')"
      ],
      "execution_count": 0,
      "outputs": [
        {
          "output_type": "execute_result",
          "data": {
            "text/html": [
              "<div>\n",
              "<style scoped>\n",
              "    .dataframe tbody tr th:only-of-type {\n",
              "        vertical-align: middle;\n",
              "    }\n",
              "\n",
              "    .dataframe tbody tr th {\n",
              "        vertical-align: top;\n",
              "    }\n",
              "\n",
              "    .dataframe thead th {\n",
              "        text-align: right;\n",
              "    }\n",
              "</style>\n",
              "<table border=\"1\" class=\"dataframe\">\n",
              "  <thead>\n",
              "    <tr style=\"text-align: right;\">\n",
              "      <th></th>\n",
              "      <th>0</th>\n",
              "    </tr>\n",
              "  </thead>\n",
              "  <tbody>\n",
              "    <tr>\n",
              "      <th>count</th>\n",
              "      <td>942</td>\n",
              "    </tr>\n",
              "    <tr>\n",
              "      <th>unique</th>\n",
              "      <td>942</td>\n",
              "    </tr>\n",
              "    <tr>\n",
              "      <th>top</th>\n",
              "      <td>08-19-1991\\t19:30\\t62\\t285</td>\n",
              "    </tr>\n",
              "    <tr>\n",
              "      <th>freq</th>\n",
              "      <td>1</td>\n",
              "    </tr>\n",
              "  </tbody>\n",
              "</table>\n",
              "</div>"
            ],
            "text/plain": [
              "                                 0\n",
              "count                          942\n",
              "unique                         942\n",
              "top     08-19-1991\\t19:30\\t62\\t285\n",
              "freq                             1"
            ]
          },
          "metadata": {
            "tags": []
          },
          "execution_count": 7
        }
      ]
    },
    {
      "cell_type": "code",
      "metadata": {
        "id": "vKQlogSBxTTE",
        "colab_type": "code",
        "outputId": "7843f4f1-b6a6-4c96-ec3a-631c586dfb23",
        "colab": {
          "base_uri": "https://localhost:8080/",
          "height": 343
        }
      },
      "source": [
        "df = pd.read_csv('Diabetes-Data/data-03')\n",
        "df.head(10)"
      ],
      "execution_count": 0,
      "outputs": [
        {
          "output_type": "execute_result",
          "data": {
            "text/html": [
              "<div>\n",
              "<style scoped>\n",
              "    .dataframe tbody tr th:only-of-type {\n",
              "        vertical-align: middle;\n",
              "    }\n",
              "\n",
              "    .dataframe tbody tr th {\n",
              "        vertical-align: top;\n",
              "    }\n",
              "\n",
              "    .dataframe thead th {\n",
              "        text-align: right;\n",
              "    }\n",
              "</style>\n",
              "<table border=\"1\" class=\"dataframe\">\n",
              "  <thead>\n",
              "    <tr style=\"text-align: right;\">\n",
              "      <th></th>\n",
              "      <th>07-21-1990\t06:43\t58\t202</th>\n",
              "    </tr>\n",
              "  </thead>\n",
              "  <tbody>\n",
              "    <tr>\n",
              "      <th>0</th>\n",
              "      <td>07-21-1990\\t07:03\\t33\\t4</td>\n",
              "    </tr>\n",
              "    <tr>\n",
              "      <th>1</th>\n",
              "      <td>07-21-1990\\t07:03\\t35\\t9</td>\n",
              "    </tr>\n",
              "    <tr>\n",
              "      <th>2</th>\n",
              "      <td>07-21-1990\\t08:56\\t56\\t115</td>\n",
              "    </tr>\n",
              "    <tr>\n",
              "      <th>3</th>\n",
              "      <td>07-21-1990\\t10:57\\t60\\t134</td>\n",
              "    </tr>\n",
              "    <tr>\n",
              "      <th>4</th>\n",
              "      <td>07-21-1990\\t16:14\\t62\\t100</td>\n",
              "    </tr>\n",
              "    <tr>\n",
              "      <th>5</th>\n",
              "      <td>07-21-1990\\t16:16\\t35\\t8</td>\n",
              "    </tr>\n",
              "    <tr>\n",
              "      <th>6</th>\n",
              "      <td>07-21-1990\\t20:12\\t64\\t156</td>\n",
              "    </tr>\n",
              "    <tr>\n",
              "      <th>7</th>\n",
              "      <td>07-22-1990\\t05:56\\t56\\t108</td>\n",
              "    </tr>\n",
              "    <tr>\n",
              "      <th>8</th>\n",
              "      <td>07-22-1990\\t05:58\\t58\\t92</td>\n",
              "    </tr>\n",
              "    <tr>\n",
              "      <th>9</th>\n",
              "      <td>07-22-1990\\t06:00\\t33\\t3</td>\n",
              "    </tr>\n",
              "  </tbody>\n",
              "</table>\n",
              "</div>"
            ],
            "text/plain": [
              "   07-21-1990\\t06:43\\t58\\t202\n",
              "0    07-21-1990\\t07:03\\t33\\t4\n",
              "1    07-21-1990\\t07:03\\t35\\t9\n",
              "2  07-21-1990\\t08:56\\t56\\t115\n",
              "3  07-21-1990\\t10:57\\t60\\t134\n",
              "4  07-21-1990\\t16:14\\t62\\t100\n",
              "5    07-21-1990\\t16:16\\t35\\t8\n",
              "6  07-21-1990\\t20:12\\t64\\t156\n",
              "7  07-22-1990\\t05:56\\t56\\t108\n",
              "8   07-22-1990\\t05:58\\t58\\t92\n",
              "9    07-22-1990\\t06:00\\t33\\t3"
            ]
          },
          "metadata": {
            "tags": []
          },
          "execution_count": 7
        }
      ]
    },
    {
      "cell_type": "code",
      "metadata": {
        "id": "z57tgDchgNw_",
        "colab_type": "code",
        "outputId": "0137356a-af73-4f23-c580-f63814fe52bd",
        "colab": {
          "base_uri": "https://localhost:8080/",
          "height": 136
        }
      },
      "source": [
        "df_index = pd.read_csv('https://archive.ics.uci.edu/ml/machine-learning-databases/diabetes/Index')\n",
        "df_index"
      ],
      "execution_count": 0,
      "outputs": [
        {
          "output_type": "execute_result",
          "data": {
            "text/html": [
              "<div>\n",
              "<style scoped>\n",
              "    .dataframe tbody tr th:only-of-type {\n",
              "        vertical-align: middle;\n",
              "    }\n",
              "\n",
              "    .dataframe tbody tr th {\n",
              "        vertical-align: top;\n",
              "    }\n",
              "\n",
              "    .dataframe thead th {\n",
              "        text-align: right;\n",
              "    }\n",
              "</style>\n",
              "<table border=\"1\" class=\"dataframe\">\n",
              "  <thead>\n",
              "    <tr style=\"text-align: right;\">\n",
              "      <th></th>\n",
              "      <th>Index of diabetes</th>\n",
              "    </tr>\n",
              "  </thead>\n",
              "  <tbody>\n",
              "    <tr>\n",
              "      <th>0</th>\n",
              "      <td>02 Dec 1996      115 Index</td>\n",
              "    </tr>\n",
              "    <tr>\n",
              "      <th>1</th>\n",
              "      <td>29 May 1995      682 README</td>\n",
              "    </tr>\n",
              "    <tr>\n",
              "      <th>2</th>\n",
              "      <td>30 Aug 1993   187551 diabetes-data.tar.Z</td>\n",
              "    </tr>\n",
              "  </tbody>\n",
              "</table>\n",
              "</div>"
            ],
            "text/plain": [
              "                          Index of diabetes\n",
              "0                02 Dec 1996      115 Index\n",
              "1               29 May 1995      682 README\n",
              "2  30 Aug 1993   187551 diabetes-data.tar.Z"
            ]
          },
          "metadata": {
            "tags": []
          },
          "execution_count": 9
        }
      ]
    },
    {
      "cell_type": "code",
      "metadata": {
        "id": "y5EE2ZuOgY9q",
        "colab_type": "code",
        "colab": {}
      },
      "source": [
        "# sdjfdskjfh\n",
        "\"\"\"sdfsdf\"\"\""
      ],
      "execution_count": 0,
      "outputs": []
    }
  ]
}